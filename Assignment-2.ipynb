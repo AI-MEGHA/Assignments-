{
 "cells": [
  {
   "cell_type": "markdown",
   "metadata": {},
   "source": [
    "# 1.Create the below pattern using nested for loop in Python."
   ]
  },
  {
   "cell_type": "code",
   "execution_count": 1,
   "metadata": {},
   "outputs": [],
   "source": [
    "\"\"\"\n",
    "\n",
    "*\n",
    "* *\n",
    "* * *\n",
    "* * * *\n",
    "* * * * *\n",
    "* * * *\n",
    "* * *\n",
    "* *\n",
    "*\n",
    "\"\"\""
   ]
  },
  {
   "cell_type": "code",
   "execution_count": 2,
   "metadata": {},
   "outputs": [
    {
     "name": "stdout",
     "output_type": "stream",
     "text": [
      "*\n",
      "* *\n",
      "* * *\n",
      "* * * *\n",
      "* * * * *\n",
      "* * * *\n",
      "* * *\n",
      "* *\n",
      "*\n"
     ]
    }
   ],
   "source": [
    "MIN=2\n",
    "MAX=12\n",
    "AVG=int(MAX/2)\n",
    "\n",
    "for number_of_iter in range(MIN, MAX):\n",
    "\n",
    " # Init row to be printed\n",
    " row_to_print = \"\"\n",
    "\n",
    " if number_of_iter <= AVG:\n",
    "  # For iterations 2,3,4,5 - Enter here\n",
    "  upper_limit = number_of_iter\n",
    " else: \n",
    "  # For iterations 6,7,8,9,10,11 - Enter here\n",
    "  upper_limit = MAX - number_of_iter\n",
    " \n",
    " # use range function: upper_limit is always non-inclusive\n",
    " # Corner cases will get eliminated\n",
    " for loopvar in range(1,upper_limit):\n",
    "   row_to_print = row_to_print + \" \" + \"*\"\n",
    "\n",
    " # Remove preceeding space and nulls during print to console\n",
    " if len(row_to_print.strip()) > 0:\n",
    "  print (row_to_print.strip())"
   ]
  },
  {
   "cell_type": "markdown",
   "metadata": {},
   "source": [
    "# 2.Write a Python program to reverse a word after accepting the input from the user.\n",
    "Sample Output:\n",
    "Input word: ineuron\n",
    "Output: norueni"
   ]
  },
  {
   "cell_type": "code",
   "execution_count": 3,
   "metadata": {},
   "outputs": [
    {
     "name": "stdout",
     "output_type": "stream",
     "text": [
      "Enter word to be reversed :  ineuron\n",
      "Reversed word : norueni\n"
     ]
    }
   ],
   "source": [
    "\n",
    "input_word = input(\"Enter word to be reversed :  \").strip()\n",
    "print (\"Reversed word : \" + input_word[::-1])"
   ]
  },
  {
   "cell_type": "markdown",
   "metadata": {},
   "source": [
    "# END"
   ]
  }
 ],
 "metadata": {
  "kernelspec": {
   "display_name": "Python 3",
   "language": "python",
   "name": "python3"
  },
  "language_info": {
   "codemirror_mode": {
    "name": "ipython",
    "version": 3
   },
   "file_extension": ".py",
   "mimetype": "text/x-python",
   "name": "python",
   "nbconvert_exporter": "python",
   "pygments_lexer": "ipython3",
   "version": "3.7.4"
  }
 },
 "nbformat": 4,
 "nbformat_minor": 2
}
